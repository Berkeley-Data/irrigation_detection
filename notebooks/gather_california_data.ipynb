{
 "cells": [
  {
   "cell_type": "markdown",
   "metadata": {},
   "source": [
    "# Acquire Sentinel-2 MSI Data for California\n",
    "## Capstone Fall 2020\n",
    "### TP Goter\n",
    "\n",
    "This notebook is used for gathering data from California from the Sentinel-2 satellites. Specifically, we are looking to acquire the surface reflectance data (atmosphere corrected - level 2a) as that is what we did our baseline model testing and evaluation with using the Big Earth Net data. We will gather data from a variety of geographic areas but most of our focus will be on the agricultural regions of California (e.g., Central Valley)."
   ]
  },
  {
   "cell_type": "code",
   "execution_count": 6,
   "metadata": {},
   "outputs": [],
   "source": [
    "import time\n",
    "from math import sin, cos, sqrt, atan2, radians\n",
    "import pandas as pd\n",
    "import ee\n",
    "from shapely.geometry import box\n",
    "import folium\n",
    "import matplotlib.pyplot as plt\n",
    "import numpy as np\n",
    "from scipy.signal import find_peaks\n"
   ]
  },
  {
   "cell_type": "code",
   "execution_count": 4,
   "metadata": {},
   "outputs": [],
   "source": [
    "def authenticate():\n",
    "    # Trigger the authentication flow.\n",
    "    ee.Authenticate()\n"
   ]
  },
  {
   "cell_type": "code",
   "execution_count": null,
   "metadata": {},
   "outputs": [],
   "source": []
  },
  {
   "cell_type": "code",
   "execution_count": 47,
   "metadata": {},
   "outputs": [],
   "source": [
    "class MSICalifornia():\n",
    "\n",
    "    def __init__(self, center_lat=43.771114, center_lon=-116.736866, edge_len=0.005, year=2019):\n",
    "        '''\n",
    "        Parameters:\n",
    "            center_lat: latitude for the location coordinate\n",
    "            center_lon: longitude for the location coordinate\n",
    "            edge_len: edge length in degrees for the rectangle given the location coordinates\n",
    "            year: year the satellite data should pull images for\n",
    "            '''\n",
    "\n",
    "        # Initialize the library.\n",
    "        ee.Initialize()\n",
    "\n",
    "        # Error handle parameter issues\n",
    "        if center_lat >= -90 and center_lat <= 90:\n",
    "            self.center_lat = center_lat\n",
    "        else:\n",
    "            raise ValueError('Please enter float value for latitude between -90 and 90')\n",
    "            exit()\n",
    "\n",
    "        if center_lon >= -180 and center_lon <= 180:\n",
    "            self.center_lon = center_lon\n",
    "        else:\n",
    "            raise ValueError('Please enter float value for longitude between -180 and 180')\n",
    "            exit()\n",
    "\n",
    "        if (type(edge_len) == float and (edge_len <= 0.5 and edge_len >= 0.005)):\n",
    "            self.edge_len = edge_len\n",
    "        else:\n",
    "            raise ValueError('Please enter float value for edge length between 0.5 and 0.005')\n",
    "            exit()\n",
    "\n",
    "        # (range is 2017 to year prior)\n",
    "        if ((type(year) == int) and (year >= 2017 and year <= int(time.strftime(\"%Y\")) - 1)):\n",
    "            self.year = year\n",
    "        else:\n",
    "            raise ValueError(\n",
    "                'Please enter an integer value for year > 2017 and less than the current year')\n",
    "            exit()\n",
    "\n",
    "        # initialize remaining variables\n",
    "        self.label = []\n",
    "        self.comment = dict()\n",
    "        self.image = ee.Image()\n",
    "        self.simple_image = ee.Image()\n",
    "        self.base_asset_directory = None\n",
    "\n",
    "        # Create the bounding box using GEE API\n",
    "        self.aoi_ee = self.__create_bounding_box_ee()\n",
    "        # Estimate the area of interest\n",
    "        self.dist_lon = self.__calc_distance(\n",
    "            self.center_lon - self.edge_len / 2, self.center_lat, self.center_lon + self.edge_len / 2, self.center_lat)\n",
    "        self.dist_lat = self.__calc_distance(\n",
    "            self.center_lon, self.center_lat - self.edge_len / 2, self.center_lon, self.center_lat + self.edge_len / 2)\n",
    "        print('The selected area is approximately {:.2f} km by {:.2f} km'.format(\n",
    "            self.dist_lon, self.dist_lat))\n",
    "\n",
    "        self.model_projection = \"EPSG:3857\"\n",
    "\n",
    "    def __create_bounding_box_ee(self):\n",
    "        '''Creates a rectangle for pulling image information using center coordinates and edge_len'''\n",
    "        return ee.Geometry.Rectangle([self.center_lon - self.edge_len / 2, self.center_lat - self.edge_len / 2, self.center_lon + self.edge_len / 2, self.center_lat + self.edge_len / 2])\n",
    "\n",
    "    def __create_bounding_box_shapely(self):\n",
    "        '''Returns a box for coordinates to plug in as an image add-on layer'''\n",
    "        return box(self.center_lon - self.edge_len / 2, self.center_lat - self.edge_len / 2, self.center_lon + self.edge_len / 2, self.center_lat + self.edge_len / 2)\n",
    "\n",
    "    @staticmethod\n",
    "    def __calc_distance(lon1, lat1, lon2, lat2):\n",
    "        '''Calculates the distance between 2 coordinates'''\n",
    "        # Reference: https://stackoverflow.com/questions/19412462/getting-distance-between-two-points-based-on-latitude-longitude\n",
    "        # approximate radius of earth in km\n",
    "        R = 6373.0\n",
    "        lon1 = radians(lon1)\n",
    "        lat1 = radians(lat1)\n",
    "        lon2 = radians(lon2)\n",
    "        lat2 = radians(lat2)\n",
    "        dlon = lon2 - lon1\n",
    "        dlat = lat2 - lat1\n",
    "        a = sin(dlat / 2)**2 + cos(lat1) * cos(lat2) * sin(dlon / 2)**2\n",
    "        c = 2 * atan2(sqrt(a), sqrt(1 - a))\n",
    "        distance = R * c\n",
    "        return distance\n",
    "\n",
    "    def pull_Sentinel2_data(self):\n",
    "       \n",
    "        \n",
    "        # 10 of 13 Spectral Bands are retained. 10th band has no surface reflectance per\n",
    "        # http://bigearth.net/static/documents/BigEarthNet_IGARSS_2019.pdf\n",
    "        \n",
    "        # Also the baseline model only used the 10 and 20m bands (remove band 1 and 9)\n",
    "        band_names = ['B2', 'B3', 'B4', 'B5',\n",
    "                      'B6', 'B7', 'B8', 'B8A', 'B9',\n",
    "                      'B11', 'B12']\n",
    "        \n",
    "        random_month = np.random.randint(1,13)\n",
    "\n",
    "        start_date = f'{self.year}-{random_month}-01'\n",
    "        if random_month != 12:\n",
    "            end_date = f'{self.year}-{random_month+1}-01'\n",
    "        else:\n",
    "            end_date = f'{self.year +1 }-1-01'\n",
    "\n",
    "        self.Sentinel_MSI = (ee.ImageCollection('COPERNICUS/S2_SR')\n",
    "                             .filterDate(start_date, end_date)\n",
    "                             .filterBounds(self.aoi_ee)\n",
    "                             .select(band_names)\n",
    "                             .filter(ee.Filter.lt('CLOUDY_PIXEL_PERCENTAGE', 1))\n",
    "                             .median().clip(self.aoi_ee))\n",
    "        return random_month\n",
    "\n",
    "\n",
    "    def plot_map(self):\n",
    "        '''Plot folium map using GEE api - the map includes are of interest box and associated ndvi readings'''\n",
    "\n",
    "        def add_ee_layer(self, ee_object, vis_params, show, name):\n",
    "            '''Checks if image object classifies as ImageCollection, FeatureCollection, Geometry or single Image\n",
    "            and adds to folium map accordingly'''\n",
    "            try:\n",
    "                if isinstance(ee_object, ee.image.Image):\n",
    "                    map_id_dict = ee.Image(ee_object).getMapId(vis_params)\n",
    "                    folium.raster_layers.TileLayer(\n",
    "                        tiles=map_id_dict['tile_fetcher'].url_format,\n",
    "                        attr='Google Earth Engine',\n",
    "                        name=name,\n",
    "                        overlay=True,\n",
    "                        control=True,\n",
    "                        show=show\n",
    "                    ).add_to(self)\n",
    "                elif isinstance(ee_object, ee.imagecollection.ImageCollection):\n",
    "                    ee_object_new = ee_object.median()\n",
    "                    map_id_dict = ee.Image(ee_object_new).getMapId(vis_params)\n",
    "                    folium.raster_layers.TileLayer(\n",
    "                        tiles=map_id_dict['tile_fetcher'].url_format,\n",
    "                        attr='Google Earth Engine',\n",
    "                        name=name,\n",
    "                        overlay=True,\n",
    "                        control=True,\n",
    "                        show=show\n",
    "                    ).add_to(self)\n",
    "                elif isinstance(ee_object, ee.geometry.Geometry):\n",
    "                    folium.GeoJson(\n",
    "                        data=ee_object.getInfo(),\n",
    "                        name=name,\n",
    "                        overlay=True,\n",
    "                        control=True\n",
    "                    ).add_to(self)\n",
    "                elif isinstance(ee_object, ee.featurecollection.FeatureCollection):\n",
    "                    ee_object_new = ee.Image().paint(ee_object, 0, 2)\n",
    "                    map_id_dict = ee.Image(ee_object_new).getMapId(vis_params)\n",
    "                    folium.raster_layers.TileLayer(\n",
    "                        tiles=map_id_dict['tile_fetcher'].url_format,\n",
    "                        attr='Google Earth Engine',\n",
    "                        name=name,\n",
    "                        overlay=True,\n",
    "                        control=True,\n",
    "                        show=show\n",
    "                    ).add_to(self)\n",
    "\n",
    "            except:\n",
    "                print(\"Could not display {}\".format(name))\n",
    "\n",
    "        # Add EE drawing method to folium.\n",
    "        folium.Map.add_ee_layer = add_ee_layer\n",
    "\n",
    "        myMap = folium.Map(location=[self.center_lat, self.center_lon], zoom_start=11)\n",
    "        aoi_shapely = self.__create_bounding_box_shapely()\n",
    "        folium.GeoJson(aoi_shapely, name=\"Area of Interest\").add_to(myMap)\n",
    "\n",
    "        \n",
    "        # Add Sentinel-2 RGB quarterly layers\n",
    "        start = time.time()\n",
    "        visParams = {'max': 4000}\n",
    "        # Add MSI layer for July\n",
    "        myMap.add_ee_layer(self.Sentinel_MSI.select(['B2','B3','B4']), visParams, show=False, name=\"Sentinel2A\")\n",
    "        end = time.time()\n",
    "        print(\"ADDED S2 RGB LAYERS \\t\\t--> \" + str(round((end - start) / 60, 2)) + \" min\")\n",
    "\n",
    "        return myMap\n",
    "\n",
    "\n",
    "    def write_image_google_drive(self, filename):\n",
    "        '''Writes predicted image out as an image to Google Drive as a TIF file'''\n",
    "        bands = ['B2', 'B3', 'B4', 'B5',\n",
    "                'B6', 'B7', 'B8', 'B8A',\n",
    "                'B11', 'B12']\n",
    "        tasks = []\n",
    "        task = ee.batch.Export.image.toDrive(\n",
    "            crs=self.model_projection,\n",
    "            region=self.aoi_ee,\n",
    "            image=self.Sentinel_MSI.select(bands),\n",
    "            description=filename)\n",
    "        print(f\"Writing To Google Drive filename = {filename}.tif\")\n",
    "        task.start()\n",
    "\n",
    "        "
   ]
  },
  {
   "cell_type": "code",
   "execution_count": 9,
   "metadata": {},
   "outputs": [
    {
     "data": {
      "text/html": [
       "<p>To authorize access needed by Earth Engine, open the following\n",
       "        URL in a web browser and follow the instructions:</p>\n",
       "        <p><a href=https://accounts.google.com/o/oauth2/auth?client_id=517222506229-vsmmajv00ul0bs7p89v5m89qs8eb9359.apps.googleusercontent.com&scope=https%3A%2F%2Fwww.googleapis.com%2Fauth%2Fearthengine+https%3A%2F%2Fwww.googleapis.com%2Fauth%2Fdevstorage.full_control&redirect_uri=urn%3Aietf%3Awg%3Aoauth%3A2.0%3Aoob&response_type=code&code_challenge=pbGrypskRE2-5tA7Eqlfxwu3ItAHKXpjwWPa6lruqPA&code_challenge_method=S256>https://accounts.google.com/o/oauth2/auth?client_id=517222506229-vsmmajv00ul0bs7p89v5m89qs8eb9359.apps.googleusercontent.com&scope=https%3A%2F%2Fwww.googleapis.com%2Fauth%2Fearthengine+https%3A%2F%2Fwww.googleapis.com%2Fauth%2Fdevstorage.full_control&redirect_uri=urn%3Aietf%3Awg%3Aoauth%3A2.0%3Aoob&response_type=code&code_challenge=pbGrypskRE2-5tA7Eqlfxwu3ItAHKXpjwWPa6lruqPA&code_challenge_method=S256</a></p>\n",
       "        <p>The authorization workflow will generate a code, which you\n",
       "        should paste in the box below</p>\n",
       "        "
      ],
      "text/plain": [
       "<IPython.core.display.HTML object>"
      ]
     },
     "metadata": {},
     "output_type": "display_data"
    },
    {
     "name": "stdin",
     "output_type": "stream",
     "text": [
      "Enter verification code:  4/5AHigCGsN7yW3nKmAXiOLE3S05Gvw1mpt8WC4m7MnLT7iAprgw48ZxA\n"
     ]
    },
    {
     "name": "stdout",
     "output_type": "stream",
     "text": [
      "\n",
      "Successfully saved authorization token.\n"
     ]
    }
   ],
   "source": [
    "authenticate()"
   ]
  },
  {
   "cell_type": "markdown",
   "metadata": {},
   "source": [
    "## Degree to distance calculation\n",
    "- One degree of latitude equals approximately 364,080 feet (69 miles), one minute equals 6,068 feet (1.15 miles), and one-second equals 101 feet. \n",
    "- One-degree of longitude equals 288,200 feet (54.6 miles), one minute equals 4,800 feet (0.91 mile), and one second equals 80 feet.\n",
    "- 1.60934 km per mile\n",
    "- 9748 square kilometers per squared degree"
   ]
  },
  {
   "cell_type": "code",
   "execution_count": 48,
   "metadata": {},
   "outputs": [
    {
     "name": "stdout",
     "output_type": "stream",
     "text": [
      "Evaluating irrigation at 37.125, -121.125\n",
      "The selected area is approximately 22.17 km by 27.81 km\n",
      "Writing To Google Drive filename = S2SR_3_2019_37.125_-121.125.tif\n"
     ]
    }
   ],
   "source": [
    "# Latitude and Longitude of center point\n",
    "edge_len = 0.25\n",
    "\n",
    "# Grab Central Valley region of California\n",
    "\n",
    "# Fresno to Bakersfield\n",
    "#lat_range = np.arange(35.125,37.125,edge_len)\n",
    "#lon_range = np.arange(-119.875,-118.875,edge_len)\n",
    "\n",
    "# Sacramento to Merced\n",
    "#lat_range = np.arange(37.125,38.625,edge_len)\n",
    "lat_range = np.arange(37.125,37.375,edge_len)\n",
    "lon_range = np.arange(-121.125,-120.875,edge_len)\n",
    "\n",
    "year = 2019\n",
    "\n",
    "# Iterate over range of lats and longs\n",
    "for lat in lat_range:\n",
    "    for lon in lon_range:\n",
    "        # Instantiate the model\n",
    "        print(f'Evaluating irrigation at {lat}, {lon}')\n",
    "        \n",
    "        # Instantiate the model\n",
    "        model = MSICalifornia(\n",
    "            center_lat=lat, \n",
    "            center_lon=lon, \n",
    "            edge_len=edge_len, \n",
    "            year=year)\n",
    "        \n",
    "        month = model.pull_Sentinel2_data()\n",
    "                   \n",
    "        base_filename = f'S2SR_{month}_{year}_{lat}_{lon}'    \n",
    "\n",
    "        model.write_image_google_drive(base_filename)\n",
    "        "
   ]
  },
  {
   "cell_type": "code",
   "execution_count": 49,
   "metadata": {},
   "outputs": [
    {
     "name": "stdout",
     "output_type": "stream",
     "text": [
      "ADDED S2 RGB LAYERS \t\t--> 0.0 min\n",
      "CPU times: user 7.3 ms, sys: 7.84 ms, total: 15.1 ms\n",
      "Wall time: 238 ms\n"
     ]
    },
    {
     "data": {
      "text/html": [
       "<div style=\"width:100%;\"><div style=\"position:relative;width:100%;height:0;padding-bottom:60%;\"><span style=\"color:#565656\">Make this Notebook Trusted to load map: File -> Trust Notebook</span><iframe src=\"about:blank\" style=\"position:absolute;width:100%;height:100%;left:0;top:0;border:none !important;\" data-html=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 onload=\"this.contentDocument.open();this.contentDocument.write(atob(this.getAttribute('data-html')));this.contentDocument.close();\" allowfullscreen webkitallowfullscreen mozallowfullscreen></iframe></div></div>"
      ],
      "text/plain": [
       "<folium.folium.Map at 0x7fef7a9933d0>"
      ]
     },
     "execution_count": 49,
     "metadata": {},
     "output_type": "execute_result"
    }
   ],
   "source": [
    "%%time\n",
    "model.plot_map()"
   ]
  },
  {
   "cell_type": "code",
   "execution_count": 50,
   "metadata": {},
   "outputs": [],
   "source": [
    "rgb_img = model.Sentinel_MSI.select(['B2','B3','B4'])"
   ]
  },
  {
   "cell_type": "code",
   "execution_count": 51,
   "metadata": {},
   "outputs": [
    {
     "data": {
      "text/plain": [
       "{'type': 'Image',\n",
       " 'bands': [{'id': 'B2',\n",
       "   'data_type': {'type': 'PixelType',\n",
       "    'precision': 'double',\n",
       "    'min': 0,\n",
       "    'max': 65535},\n",
       "   'dimensions': [2, 1],\n",
       "   'origin': [-122, 37],\n",
       "   'crs': 'EPSG:4326',\n",
       "   'crs_transform': [1, 0, 0, 0, 1, 0]},\n",
       "  {'id': 'B3',\n",
       "   'data_type': {'type': 'PixelType',\n",
       "    'precision': 'double',\n",
       "    'min': 0,\n",
       "    'max': 65535},\n",
       "   'dimensions': [2, 1],\n",
       "   'origin': [-122, 37],\n",
       "   'crs': 'EPSG:4326',\n",
       "   'crs_transform': [1, 0, 0, 0, 1, 0]},\n",
       "  {'id': 'B4',\n",
       "   'data_type': {'type': 'PixelType',\n",
       "    'precision': 'double',\n",
       "    'min': 0,\n",
       "    'max': 65535},\n",
       "   'dimensions': [2, 1],\n",
       "   'origin': [-122, 37],\n",
       "   'crs': 'EPSG:4326',\n",
       "   'crs_transform': [1, 0, 0, 0, 1, 0]}],\n",
       " 'properties': {'system:footprint': {'type': 'Polygon',\n",
       "   'coordinates': [[[-121.25, 37],\n",
       "     [-121, 37],\n",
       "     [-121, 37.25],\n",
       "     [-121.25, 37.25],\n",
       "     [-121.25, 37]]]}}}"
      ]
     },
     "execution_count": 51,
     "metadata": {},
     "output_type": "execute_result"
    }
   ],
   "source": [
    "rgb_img.getInfo()"
   ]
  },
  {
   "cell_type": "code",
   "execution_count": 33,
   "metadata": {},
   "outputs": [
    {
     "data": {
      "text/plain": [
       "{'B11': {'type': 'PixelType', 'precision': 'double', 'min': 0, 'max': 65535},\n",
       " 'B12': {'type': 'PixelType', 'precision': 'double', 'min': 0, 'max': 65535},\n",
       " 'B2': {'type': 'PixelType', 'precision': 'double', 'min': 0, 'max': 65535},\n",
       " 'B3': {'type': 'PixelType', 'precision': 'double', 'min': 0, 'max': 65535},\n",
       " 'B4': {'type': 'PixelType', 'precision': 'double', 'min': 0, 'max': 65535},\n",
       " 'B5': {'type': 'PixelType', 'precision': 'double', 'min': 0, 'max': 65535},\n",
       " 'B6': {'type': 'PixelType', 'precision': 'double', 'min': 0, 'max': 65535},\n",
       " 'B7': {'type': 'PixelType', 'precision': 'double', 'min': 0, 'max': 65535},\n",
       " 'B8': {'type': 'PixelType', 'precision': 'double', 'min': 0, 'max': 65535},\n",
       " 'B8A': {'type': 'PixelType', 'precision': 'double', 'min': 0, 'max': 65535},\n",
       " 'B9': {'type': 'PixelType', 'precision': 'double', 'min': 0, 'max': 65535}}"
      ]
     },
     "execution_count": 33,
     "metadata": {},
     "output_type": "execute_result"
    }
   ],
   "source": [
    "model.Sentinel_MSI.bandTypes().getInfo()"
   ]
  },
  {
   "cell_type": "code",
   "execution_count": null,
   "metadata": {},
   "outputs": [],
   "source": []
  }
 ],
 "metadata": {
  "kernelspec": {
   "display_name": "Python 3",
   "language": "python",
   "name": "python3"
  },
  "language_info": {
   "codemirror_mode": {
    "name": "ipython",
    "version": 3
   },
   "file_extension": ".py",
   "mimetype": "text/x-python",
   "name": "python",
   "nbconvert_exporter": "python",
   "pygments_lexer": "ipython3",
   "version": "3.7.7"
  }
 },
 "nbformat": 4,
 "nbformat_minor": 4
}
