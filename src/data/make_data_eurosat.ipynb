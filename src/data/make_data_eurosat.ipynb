{
 "cells": [
  {
   "cell_type": "code",
   "execution_count": 1,
   "metadata": {},
   "outputs": [],
   "source": [
    "#!/usr/bin/env python\n",
    "# coding: utf-8"
   ]
  },
  {
   "cell_type": "code",
   "execution_count": 2,
   "metadata": {},
   "outputs": [],
   "source": [
    "import argparse\n",
    "import csv\n",
    "import json\n",
    "import numpy as np\n",
    "import os\n",
    "import pandas as pd\n",
    "import rasterio\n",
    "import tensorflow as tf\n",
    "from glob import glob\n",
    "from tqdm import tqdm\n",
    "from random import choices"
   ]
  },
  {
   "cell_type": "code",
   "execution_count": 37,
   "metadata": {},
   "outputs": [
    {
     "name": "stdout",
     "output_type": "stream",
     "text": [
      "13535 6677 6788\n"
     ]
    }
   ],
   "source": [
    "\n",
    "split_option = [0,1,2]\n",
    "weights = [0.5,0.25, 0.25]\n",
    "\n",
    "\n",
    "\n",
    "for i in range(27000):\n",
    "\n",
    "    if pick==0:\n",
    "        train_cont+=1\n",
    "    elif pick==1:\n",
    "        test_cont+=1\n",
    "    else:\n",
    "        val_cont+=1\n",
    "    \n",
    "print(train_cont,test_cont,val_cont)    "
   ]
  },
  {
   "cell_type": "code",
   "execution_count": 3,
   "metadata": {},
   "outputs": [],
   "source": [
    "# Path to the BigEarthNet extracted files\n",
    "eurosat_path = '/workspace/app/data/raw/EuroSat/fulldata/'"
   ]
  },
  {
   "cell_type": "code",
   "execution_count": 4,
   "metadata": {},
   "outputs": [],
   "source": [
    "# Models folder is already checkin. No need to download the models\n",
    "eurosat_folder = '/workspace/app/data/raw/eurosat-models/'"
   ]
  },
  {
   "cell_type": "code",
   "execution_count": 5,
   "metadata": {},
   "outputs": [],
   "source": [
    "# Stores the TFRecords\n",
    "out_folder = '/workspace/app/data/processed/EuroSat'"
   ]
  },
  {
   "cell_type": "code",
   "execution_count": 6,
   "metadata": {},
   "outputs": [],
   "source": [
    "if not os.path.exists(eurosat_path):\n",
    "    print('ERROR: folder', eurosat_path, 'does not exist')"
   ]
  },
  {
   "cell_type": "code",
   "execution_count": 7,
   "metadata": {},
   "outputs": [],
   "source": [
    "if not os.path.exists(eurosat_folder):\n",
    "    print('ERROR: folder', eurosat_folder, 'does not exist')"
   ]
  },
  {
   "cell_type": "code",
   "execution_count": 8,
   "metadata": {},
   "outputs": [],
   "source": [
    "if not os.path.exists(out_folder):\n",
    "    print('ERROR: folder', out_folder, 'does not exist')"
   ]
  },
  {
   "cell_type": "code",
   "execution_count": 9,
   "metadata": {},
   "outputs": [
    {
     "name": "stdout",
     "output_type": "stream",
     "text": [
      "Using Python Version: 1.1.5\n",
      "Using TensorFlow Version: 2.3.0\n"
     ]
    }
   ],
   "source": [
    "print(f'Using Python Version: {pd.__version__}')\n",
    "print(f'Using TensorFlow Version: {tf.__version__}')"
   ]
  },
  {
   "cell_type": "code",
   "execution_count": 10,
   "metadata": {},
   "outputs": [],
   "source": [
    "# Downloads the data from teh Bigearthnet website\n",
    "# def download_data():\n",
    "# os.system(\"curl http://madm.dfki.de/files/sentinel/EuroSAT.zip -o /data/raw/eurosat_rgb.zip\")\n",
    "# os.system(\"unzip /data/raw/eurosat_rgb.zip -d /data/raw\")\n",
    "#     os.system(\"curl http://bigearth.net/downloads/BigEarthNet-S2-v1.0.tar.gz -o data/raw/BigEarthNet-v1.0.zip\")\n",
    "#     os.system(\"tar -xvf data/raw/BigEarthNet-v1.0.zip -C data/raw\")"
   ]
  },
  {
   "cell_type": "code",
   "execution_count": 11,
   "metadata": {},
   "outputs": [],
   "source": [
    "cont = 0\n",
    "label_list = os.listdir(eurosat_path)\n",
    "label_indices = {'original_labels':{}}\n",
    "for lbl in label_list:\n",
    "    label_indices['original_labels'][lbl] = cont\n",
    "    cont += 1"
   ]
  },
  {
   "cell_type": "code",
   "execution_count": 12,
   "metadata": {},
   "outputs": [],
   "source": [
    "def prep_example_eurosat(bands, original_labels, original_labels_multi_hot, patch_name):\n",
    "    return tf.train.Example(\n",
    "            features=tf.train.Features(\n",
    "                feature={\n",
    "                    'B01': tf.train.Feature(\n",
    "                        int64_list=tf.train.Int64List(value=np.ravel(bands['B01']))),\n",
    "                    'B02': tf.train.Feature(\n",
    "                        int64_list=tf.train.Int64List(value=np.ravel(bands['B02']))),\n",
    "                    'B03': tf.train.Feature(\n",
    "                        int64_list=tf.train.Int64List(value=np.ravel(bands['B03']))),\n",
    "                    'B04': tf.train.Feature(\n",
    "                        int64_list=tf.train.Int64List(value=np.ravel(bands['B04']))),\n",
    "                    'B05': tf.train.Feature(\n",
    "                        int64_list=tf.train.Int64List(value=np.ravel(bands['B05']))),\n",
    "                    'B06': tf.train.Feature(\n",
    "                        int64_list=tf.train.Int64List(value=np.ravel(bands['B06']))),\n",
    "                    'B07': tf.train.Feature(\n",
    "                        int64_list=tf.train.Int64List(value=np.ravel(bands['B07']))),\n",
    "                    'B08': tf.train.Feature(\n",
    "                        int64_list=tf.train.Int64List(value=np.ravel(bands['B08']))),\n",
    "                    'B8A': tf.train.Feature(\n",
    "                        int64_list=tf.train.Int64List(value=np.ravel(bands['B8A']))),\n",
    "                    'B09': tf.train.Feature(\n",
    "                        int64_list=tf.train.Int64List(value=np.ravel(bands['B09']))),\n",
    "                    'B10': tf.train.Feature(\n",
    "                        int64_list=tf.train.Int64List(value=np.ravel(bands['B10']))),\n",
    "                    'B11': tf.train.Feature(\n",
    "                        int64_list=tf.train.Int64List(value=np.ravel(bands['B11']))),\n",
    "                    'B12': tf.train.Feature(\n",
    "                        int64_list=tf.train.Int64List(value=np.ravel(bands['B12']))),\n",
    "                    'original_labels': tf.train.Feature(\n",
    "                        bytes_list=tf.train.BytesList(\n",
    "                            value=[i.encode('utf-8') for i in original_labels])),\n",
    "                    'original_labels_multi_hot': tf.train.Feature(\n",
    "                        int64_list=tf.train.Int64List(value=original_labels_multi_hot)),\n",
    "                    'patch_name': tf.train.Feature(\n",
    "                        bytes_list=tf.train.BytesList(value=[patch_name.encode('utf-8')]))\n",
    "                }))"
   ]
  },
  {
   "cell_type": "code",
   "execution_count": 13,
   "metadata": {},
   "outputs": [
    {
     "name": "stdout",
     "output_type": "stream",
     "text": [
      "Label: Pasture \n",
      "\n",
      "1998/2000 [============================>.] - ETA: 0sLabel: Industrial \n",
      "\n",
      "2499/2500 [============================>.] - ETA: 0sLabel: PermanentCrop \n",
      "\n",
      "2499/2500 [============================>.] - ETA: 0sLabel: AnnualCrop \n",
      "\n",
      "2997/3000 [============================>.] - ETA: 0sLabel: Highway \n",
      "\n",
      "2499/2500 [============================>.] - ETA: 0sLabel: HerbaceousVegetation \n",
      "\n",
      "2997/3000 [============================>.] - ETA: 0sLabel: Residential \n",
      "\n",
      "2997/3000 [============================>.] - ETA: 0sLabel: Forest \n",
      "\n",
      "2999/3000 [============================>.] - ETA: 0sLabel: River \n",
      "\n",
      "2498/2500 [============================>.] - ETA: 0sLabel: SeaLake \n",
      "\n",
      "2997/3000 [============================>.] - ETA: 0s"
     ]
    }
   ],
   "source": [
    "bands_l =['B01','B02','B03','B04','B05','B06','B07','B08',\n",
    "          'B8A','B09','B10','B11','B12']\n",
    "\n",
    "pick = choices(split_option,weights)[0]\n",
    "\n",
    "for tifile in label_list:\n",
    "    # create Folder\n",
    "    print('Label: {} \\n'.format(tifile))\n",
    "    patch_name = os.path.join(out_folder,tifile)\n",
    "    try:\n",
    "        os.mkdir(patch_name)\n",
    "    except:\n",
    "        print('Folder {} exist already'.format(tifile))\n",
    "        \n",
    "    # create labels\n",
    "    original_labels = [tifile]\n",
    "    \n",
    "    # hot encode label\n",
    "    original_labels_multi_hot = np.zeros(len(label_list),dtype=int)\n",
    "    lidx = label_indices['original_labels'][tifile]\n",
    "    original_labels_multi_hot[lidx] = 1\n",
    "\n",
    "    # loop in the folder\n",
    "    files_list = os.listdir(os.path.join(eurosat_path,tifile))\n",
    "\n",
    "    # write holder tfrecord\n",
    "    progress_bar = tf.keras.utils.Progbar(target = len(files_list))\n",
    "    for findex,fex in enumerate(files_list):\n",
    "        sname = fex.split('_')[1][:-4]\n",
    "        TFRecord_writer = tf.io.TFRecordWriter(os.path.join(patch_name, tifile+'_'+sname+'.tfrecord'))\n",
    "        band_ds = rasterio.open(os.path.join(eurosat_path,tifile,fex))\n",
    "        bands = {}\n",
    "        for idx in range(13): # 13 bands\n",
    "            bands[bands_l[idx]] = np.array(band_ds.read(idx+1))\n",
    "\n",
    "        # prep example dev example\n",
    "        example = prep_example_eurosat(bands,\n",
    "                                       original_labels, \n",
    "                                       original_labels_multi_hot, \n",
    "                                       patch_name)\n",
    "        TFRecord_writer.write(example.SerializeToString()) # This is the full path to tfrecord\n",
    "        progress_bar.update(findex)    "
   ]
  },
  {
   "cell_type": "code",
   "execution_count": null,
   "metadata": {},
   "outputs": [],
   "source": []
  }
 ],
 "metadata": {
  "kernelspec": {
   "display_name": "Python 3",
   "language": "python",
   "name": "python3"
  },
  "language_info": {
   "codemirror_mode": {
    "name": "ipython",
    "version": 3
   },
   "file_extension": ".py",
   "mimetype": "text/x-python",
   "name": "python",
   "nbconvert_exporter": "python",
   "pygments_lexer": "ipython3",
   "version": "3.6.9"
  }
 },
 "nbformat": 4,
 "nbformat_minor": 4
}
